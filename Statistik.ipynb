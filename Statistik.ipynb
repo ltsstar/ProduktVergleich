{
 "cells": [
  {
   "cell_type": "code",
   "execution_count": 1,
   "metadata": {},
   "outputs": [],
   "source": [
    "from scipy.stats import binom\n",
    "from scipy.stats.distributions import chi2\n",
    "import scipy.stats\n",
    "import numpy as np\n",
    "import matplotlib.pyplot as plt\n",
    "from statsmodels.stats.descriptivestats import sign_test"
   ]
  },
  {
   "cell_type": "code",
   "execution_count": 36,
   "metadata": {},
   "outputs": [],
   "source": [
    "results = [\"L\"]*475 + [\"R\"]*515\n",
    "\n",
    "n = len(results)\n",
    "p = results.count(\"L\") / len(results)"
   ]
  },
  {
   "cell_type": "code",
   "execution_count": 37,
   "metadata": {},
   "outputs": [
    {
     "data": {
      "image/png": "[encoded data removed]",
      "text/plain": [
       "<Figure size 432x288 with 1 Axes>"
      ]
     },
     "metadata": {
      "needs_background": "light"
     },
     "output_type": "display_data"
    }
   ],
   "source": [
    "x = np.arange(0,n,1)\n",
    "y = lambda x: [binom.pmf(i, n, p) for i in x]\n",
    "plt.plot(x, y(x))\n",
    "\n",
    "y_d = lambda x: [binom.pmf(i, n, 0.5) for i in x]\n",
    "plt.plot(x, y_d(x))\n",
    "\n",
    "plt.show()"
   ]
  },
  {
   "cell_type": "markdown",
   "metadata": {},
   "source": [
    "# z-test\n",
    "\n",
    "Approximiert die Binomialverteilung mit einer Normalverteilung => nur gut bei großen Samples\n",
    "\n",
    "https://stats.stackexchange.com/a/210554/265388"
   ]
  },
  {
   "cell_type": "code",
   "execution_count": 38,
   "metadata": {},
   "outputs": [
    {
     "name": "stdout",
     "output_type": "stream",
     "text": [
      "z-score: -0.4495583215726898\n",
      "p-value: 0.3265144730901698\n"
     ]
    }
   ],
   "source": [
    "p_circumflex = lambda n_1, n_2, p_1, p_2 : (n_1*p_1 + n_2*p_2) / (n_1 + n_2)\n",
    "z_test = lambda n_1, n_2, p_1, p_2:\\\n",
    "            (lambda n_1, n_2, p_1, p_2, p_c : (p_1 - p_2) / np.sqrt(p_c*(1-p_c)*(1/n_1 + 1/n_2)))\\\n",
    "        (n_1, n_2, p_1, p_2, p_circumflex(n_1, n_2, p_1, p_2))\n",
    "\n",
    "z_score = z_test(n, n, p, 0.5)/2\n",
    "p_value = scipy.stats.norm.sf(abs(z_score))\n",
    "print(\"z-score:\", z_score)\n",
    "print(\"p-value:\", p_value)"
   ]
  },
  {
   "cell_type": "markdown",
   "metadata": {},
   "source": [
    "# Fisher's test\n",
    "\n",
    "Besser"
   ]
  },
  {
   "cell_type": "code",
   "execution_count": 39,
   "metadata": {},
   "outputs": [
    {
     "name": "stdout",
     "output_type": "stream",
     "text": [
      "odds-ratio: 0.9223300970873787\n",
      "p-value: 0.3930213625596538\n"
     ]
    }
   ],
   "source": [
    "contingency_table = [[results.count(\"L\"), n - results.count(\"L\")],\n",
    "                [0.5 * n, 0.5 * n]\n",
    "               ]\n",
    "fisher_results = scipy.stats.fisher_exact(contingency_table, alternative=\"two-sided\")\n",
    "\n",
    "print(\"odds-ratio:\", fisher_results[0])\n",
    "print(\"p-value:\", fisher_results[1])"
   ]
  },
  {
   "cell_type": "markdown",
   "metadata": {},
   "source": [
    "# McNemar's test"
   ]
  },
  {
   "cell_type": "code",
   "execution_count": 40,
   "metadata": {},
   "outputs": [
    {
     "name": "stdout",
     "output_type": "stream",
     "text": [
      "Chi-square: 0.8080808080808081\n",
      "p-value: 0.3686882693617817\n"
     ]
    }
   ],
   "source": [
    "chi_square = (contingency_table[0][1] - contingency_table[1][0])**2 / (contingency_table[0][1] + contingency_table[1][0])\n",
    "chi_square = ((contingency_table[0][0] - contingency_table[1][0])**2 / contingency_table[1][0] +\\\n",
    "              (contingency_table[0][1] - contingency_table[1][1])**2 / contingency_table[1][1]) / 2\n",
    "chi_square = (contingency_table[0][1] - contingency_table[1][1])**2 / contingency_table[1][1]\n",
    "p_value = chi2.sf(chi_square, 1)\n",
    "\n",
    "print(\"Chi-square:\", chi_square)\n",
    "print(\"p-value:\", p_value)"
   ]
  },
  {
   "cell_type": "markdown",
   "metadata": {},
   "source": [
    "# Sign test\n",
    "# Wilcoxon test"
   ]
  },
  {
   "cell_type": "code",
   "execution_count": 41,
   "metadata": {},
   "outputs": [
    {
     "name": "stdout",
     "output_type": "stream",
     "text": [
      "sign test: (20.0, 0.2151392089791738)\n",
      "wilcoxon: WilcoxonResult(statistic=235362.5, pvalue=0.2036278270936056)\n"
     ]
    }
   ],
   "source": [
    "\n",
    "new_results = [-1 if c == \"L\" else 1 for c in results]\n",
    "print(\"sign test:\", sign_test(new_results))\n",
    "print(\"wilcoxon:\", scipy.stats.wilcoxon(new_results))"
   ]
  }
 ],
 "metadata": {
  "kernelspec": {
   "display_name": "Python 3",
   "language": "python",
   "name": "python3"
  },
  "language_info": {
   "codemirror_mode": {
    "name": "ipython",
    "version": 3
   },
   "file_extension": ".py",
   "mimetype": "text/x-python",
   "name": "python",
   "nbconvert_exporter": "python",
   "pygments_lexer": "ipython3",
   "version": "3.8.10"
  }
 },
 "nbformat": 4,
 "nbformat_minor": 2
}
